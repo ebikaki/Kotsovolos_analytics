{
 "cells": [
  {
   "cell_type": "code",
   "execution_count": 1,
   "metadata": {},
   "outputs": [],
   "source": [
    "# Import Libraries\n",
    "import pandas as pd\n",
    "import numpy as np\n"
   ]
  },
  {
   "cell_type": "code",
   "execution_count": 2,
   "metadata": {},
   "outputs": [],
   "source": [
    "full_dataset = pd.read_excel('../Inputs/ticket_analysis_level_0.xlsx')"
   ]
  },
  {
   "cell_type": "code",
   "execution_count": 3,
   "metadata": {},
   "outputs": [],
   "source": [
    "def select_subsequent_years(df):\n",
    "    selected_df = df.loc[df[\"Select_Year\"]==1,:].reset_index(drop=True)\n",
    "    selected_df[\"ok\"] = 0\n",
    "    if len(selected_df) == 1:\n",
    "        selected_df[\"ok\"] = 1\n",
    "    else:\n",
    "        for i in range(len(selected_df)-1):\n",
    "            if(selected_df[\"Purchace_Year\"][i+1]-selected_df[\"Purchace_Year\"][i] == 1):\n",
    "                selected_df.loc[i+1,\"ok\"] = selected_df.loc[i,\"ok\"] = 1\n",
    "    \n",
    "    return(selected_df.loc[selected_df[\"ok\"]==1,\"Purchace_Year\"].values)"
   ]
  },
  {
   "cell_type": "markdown",
   "metadata": {},
   "source": [
    "# Automated Year Range selection"
   ]
  },
  {
   "cell_type": "code",
   "execution_count": 4,
   "metadata": {},
   "outputs": [],
   "source": [
    "category_year = full_dataset.groupby([\"CATEGORY_DESCR_EN\",\"Purchace_Year\"])[['total_contract']].sum().reset_index()\n",
    "CAT = category_year[\"CATEGORY_DESCR_EN\"].unique()\n",
    "years_df = []\n",
    "final_df = pd.DataFrame()\n",
    "for c in CAT:\n",
    "    df = category_year[category_year[\"CATEGORY_DESCR_EN\"]==c].copy()\n",
    "    df[\"scaled_contracts\"] = df[\"total_contract\"] / df[\"total_contract\"].max()\n",
    "    df[\"Select_Year\"] = 0\n",
    "    df.loc[df[\"scaled_contracts\"] > 0.6, \"Select_Year\"] = 1 \n",
    "    y = select_subsequent_years(df)\n",
    "\n",
    "    years_df.append({'Category':c,\n",
    "                     'Years':y})\n",
    "    \n",
    "    final_df = pd.concat([final_df,full_dataset.loc[((full_dataset[\"CATEGORY_DESCR_EN\"]==c) & (full_dataset[\"Purchace_Year\"].isin(y)))]])\n",
    "years_df = pd.DataFrame(years_df)"
   ]
  },
  {
   "cell_type": "code",
   "execution_count": 5,
   "metadata": {},
   "outputs": [
    {
     "data": {
      "text/html": [
       "<div>\n",
       "<style scoped>\n",
       "    .dataframe tbody tr th:only-of-type {\n",
       "        vertical-align: middle;\n",
       "    }\n",
       "\n",
       "    .dataframe tbody tr th {\n",
       "        vertical-align: top;\n",
       "    }\n",
       "\n",
       "    .dataframe thead th {\n",
       "        text-align: right;\n",
       "    }\n",
       "</style>\n",
       "<table border=\"1\" class=\"dataframe\">\n",
       "  <thead>\n",
       "    <tr style=\"text-align: right;\">\n",
       "      <th></th>\n",
       "      <th>Category</th>\n",
       "      <th>Years</th>\n",
       "    </tr>\n",
       "  </thead>\n",
       "  <tbody>\n",
       "    <tr>\n",
       "      <th>0</th>\n",
       "      <td>AC</td>\n",
       "      <td>[2016.0, 2017.0, 2018.0, 2019.0]</td>\n",
       "    </tr>\n",
       "    <tr>\n",
       "      <th>1</th>\n",
       "      <td>BG</td>\n",
       "      <td>[2008.0, 2009.0, 2014.0, 2015.0, 2016.0, 2017....</td>\n",
       "    </tr>\n",
       "    <tr>\n",
       "      <th>2</th>\n",
       "      <td>COMPUTING</td>\n",
       "      <td>[2013.0, 2014.0, 2015.0, 2016.0, 2017.0, 2018....</td>\n",
       "    </tr>\n",
       "    <tr>\n",
       "      <th>3</th>\n",
       "      <td>ESSENTIALS</td>\n",
       "      <td>[]</td>\n",
       "    </tr>\n",
       "    <tr>\n",
       "      <th>4</th>\n",
       "      <td>EXTENDED RANGE</td>\n",
       "      <td>[2008.0]</td>\n",
       "    </tr>\n",
       "    <tr>\n",
       "      <th>5</th>\n",
       "      <td>MDA</td>\n",
       "      <td>[2016.0, 2017.0, 2018.0]</td>\n",
       "    </tr>\n",
       "    <tr>\n",
       "      <th>6</th>\n",
       "      <td>No Sap Hierarchy</td>\n",
       "      <td>[2006.0]</td>\n",
       "    </tr>\n",
       "    <tr>\n",
       "      <th>7</th>\n",
       "      <td>REST</td>\n",
       "      <td>[2008.0, 2009.0, 2010.0]</td>\n",
       "    </tr>\n",
       "    <tr>\n",
       "      <th>8</th>\n",
       "      <td>SDA</td>\n",
       "      <td>[2014.0, 2015.0, 2016.0, 2017.0, 2018.0, 2019....</td>\n",
       "    </tr>\n",
       "    <tr>\n",
       "      <th>9</th>\n",
       "      <td>SERVICES</td>\n",
       "      <td>[2006.0, 2007.0, 2008.0]</td>\n",
       "    </tr>\n",
       "    <tr>\n",
       "      <th>10</th>\n",
       "      <td>TELECOMS</td>\n",
       "      <td>[2018.0, 2019.0, 2020.0, 2021.0, 2022.0]</td>\n",
       "    </tr>\n",
       "  </tbody>\n",
       "</table>\n",
       "</div>"
      ],
      "text/plain": [
       "            Category                                              Years\n",
       "0                 AC                   [2016.0, 2017.0, 2018.0, 2019.0]\n",
       "1                 BG  [2008.0, 2009.0, 2014.0, 2015.0, 2016.0, 2017....\n",
       "2          COMPUTING  [2013.0, 2014.0, 2015.0, 2016.0, 2017.0, 2018....\n",
       "3         ESSENTIALS                                                 []\n",
       "4     EXTENDED RANGE                                           [2008.0]\n",
       "5                MDA                           [2016.0, 2017.0, 2018.0]\n",
       "6   No Sap Hierarchy                                           [2006.0]\n",
       "7               REST                           [2008.0, 2009.0, 2010.0]\n",
       "8                SDA  [2014.0, 2015.0, 2016.0, 2017.0, 2018.0, 2019....\n",
       "9           SERVICES                           [2006.0, 2007.0, 2008.0]\n",
       "10          TELECOMS           [2018.0, 2019.0, 2020.0, 2021.0, 2022.0]"
      ]
     },
     "execution_count": 5,
     "metadata": {},
     "output_type": "execute_result"
    }
   ],
   "source": [
    "years_df"
   ]
  },
  {
   "cell_type": "code",
   "execution_count": 13,
   "metadata": {},
   "outputs": [
    {
     "data": {
      "text/plain": [
       "array([2022., 2018., 2019., 2020., 2021.])"
      ]
     },
     "execution_count": 13,
     "metadata": {},
     "output_type": "execute_result"
    }
   ],
   "source": [
    "# Check that it works\n",
    "final_df.loc[final_df[\"CATEGORY_DESCR_EN\"]==\"TELECOMS\",\"Purchace_Year\"].unique()"
   ]
  },
  {
   "cell_type": "code",
   "execution_count": 4,
   "metadata": {},
   "outputs": [],
   "source": [
    "contract_type_year = full_dataset.groupby([\"ContractType\",\"Purchace_Year\"])[['total_contract','total_tickets']].sum().reset_index()\n",
    "contract_type_year[\"tickets per ts\"] = contract_type_year[\"total_tickets\"] /contract_type_year[\"total_contract\"]\n",
    "\n",
    "brand_year = full_dataset.groupby([\"Brand\",\"Purchace_Year\"])[['total_contract','total_tickets']].sum().reset_index()\n",
    "brand_year[\"tickets per ts\"] = brand_year[\"total_tickets\"] /brand_year[\"total_contract\"]\n",
    "\n",
    "category_year = full_dataset.groupby([\"CATEGORY_DESCR_EN\",\"Purchace_Year\"])[['total_contract','total_tickets']].sum().reset_index()\n",
    "category_year[\"tickets per ts\"] = category_year[\"total_tickets\"] /category_year[\"total_contract\"]\n",
    "\n",
    "subcategory_year = full_dataset.groupby([\"SUBCATEGORY_DESCR_EN\",\"Purchace_Year\"])[['total_contract','total_tickets']].sum().reset_index()\n",
    "subcategory_year[\"tickets per ts\"] = subcategory_year[\"total_tickets\"] /subcategory_year[\"total_contract\"]\n",
    "\n",
    "l3_year = full_dataset.groupby([\"GROUP_DESCR_EN\",\"Purchace_Year\"])[['total_contract','total_tickets']].sum().reset_index()\n",
    "l3_year[\"tickets per ts\"] = l3_year[\"total_tickets\"] /l3_year[\"total_contract\"]"
   ]
  },
  {
   "cell_type": "code",
   "execution_count": 5,
   "metadata": {},
   "outputs": [],
   "source": [
    "# create a excel writer object\n",
    "# with pd.ExcelWriter(\"./Outputs/tickets_analysis_file_automated_time_range.xlsx\") as writer:\n",
    "   \n",
    "#     # use to_excel function and specify the sheet_name and index \n",
    "#     # to store the dataframe in specified sheet\n",
    "#     full_dataset.to_excel(writer, sheet_name=\"base_level\", index=False)\n",
    "#     contract_type_year.to_excel(writer, sheet_name=\"per_contract_types\", index=False)\n",
    "#     brand_year.to_excel(writer, sheet_name=\"per Brand\", index=False)\n",
    "#     category_year.to_excel(writer, sheet_name=\"per Category\", index=False)\n",
    "#     subcategory_year.to_excel(writer, sheet_name=\"per SubCategory\", index=False)\n",
    "#     l3_year.to_excel(writer, sheet_name=\"per L3\", index=False)"
   ]
  },
  {
   "cell_type": "markdown",
   "metadata": {},
   "source": [
    "### The previous hand-selected years-range code ###"
   ]
  },
  {
   "cell_type": "code",
   "execution_count": 3,
   "metadata": {},
   "outputs": [],
   "source": [
    "#Set similar distrbutions of total_contracts per Category\n",
    "# full_dataset = full_dataset.loc[((full_dataset[\"CATEGORY_DESCR_EN\"]==\"AC\") & (full_dataset[\"Purchace_Year\"]>=2013)& (full_dataset[\"Purchace_Year\"]<=2019))|\n",
    "#                  ((full_dataset[\"CATEGORY_DESCR_EN\"]==\"BG\") & (full_dataset[\"Purchace_Year\"]>=2013)& (full_dataset[\"Purchace_Year\"]<=2019))|\n",
    "#                  ((full_dataset[\"CATEGORY_DESCR_EN\"]==\"COMPUTING\") & (full_dataset[\"Purchace_Year\"]>=2013)& (full_dataset[\"Purchace_Year\"]<=2019))|\n",
    "#                  ((full_dataset[\"CATEGORY_DESCR_EN\"]==\"MDA\") & (full_dataset[\"Purchace_Year\"]>=2013)& (full_dataset[\"Purchace_Year\"]<=2019))|\n",
    "#                  ((full_dataset[\"CATEGORY_DESCR_EN\"]==\"SDA\") & (full_dataset[\"Purchace_Year\"]>=2013)& (full_dataset[\"Purchace_Year\"]<=2020))|\n",
    "#                  ((full_dataset[\"CATEGORY_DESCR_EN\"]==\"TELECOMS\") & (full_dataset[\"Purchace_Year\"]>=2013)& (full_dataset[\"Purchace_Year\"]<=2019))]"
   ]
  },
  {
   "cell_type": "code",
   "execution_count": null,
   "metadata": {},
   "outputs": [],
   "source": []
  }
 ],
 "metadata": {
  "kernelspec": {
   "display_name": "env_2024",
   "language": "python",
   "name": "python3"
  },
  "language_info": {
   "codemirror_mode": {
    "name": "ipython",
    "version": 3
   },
   "file_extension": ".py",
   "mimetype": "text/x-python",
   "name": "python",
   "nbconvert_exporter": "python",
   "pygments_lexer": "ipython3",
   "version": "3.12.2"
  }
 },
 "nbformat": 4,
 "nbformat_minor": 2
}
