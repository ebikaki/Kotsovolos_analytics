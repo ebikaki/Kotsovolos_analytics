{
 "cells": [
  {
   "cell_type": "code",
   "execution_count": 1,
   "metadata": {},
   "outputs": [],
   "source": [
    "# Import Libraries\n",
    "import pandas as pd\n",
    "import numpy as np\n"
   ]
  },
  {
   "cell_type": "code",
   "execution_count": 2,
   "metadata": {},
   "outputs": [],
   "source": [
    "full_dataset = pd.read_excel('./Inputs/ticket_analysis_level_0.xlsx')\n",
    "\n",
    "# For each of the following categories keep the specific date range\n",
    "# AC: 2013 - 2019 #previous 2013 - 2018 (0,08 / 0,09 /0,09 /0,07/0,07 /0,07)\n",
    "# BG: 2013 - 2019 #previous(0,10/ 0,12 /0,10 /0,08/0,08 /0,11/ 0,09)\n",
    "# COMPUTING: 2013-2019 #previous2013 - 2018 (0,24/0,19/0,15/0,12/0,11/0,10)\n",
    "# MDA:  2013-2019 (0,23/0,21/0,20/0,18/0,19/0,18/0,19 )\n",
    "# SDA: 2013- 2020 #2013- 2018 (0,05/0,07/0,08/0,04/0,04/0,03)\n",
    "# TELECOMS: 2013-2019 (0,18/0,14/0,13/0,14/0,15/0,13/0,09)\n",
    " \n",
    "\n"
   ]
  },
  {
   "cell_type": "code",
   "execution_count": 3,
   "metadata": {},
   "outputs": [],
   "source": [
    "#Set similar distrbutions of total_contracts per Category\n",
    "full_dataset = full_dataset.loc[((full_dataset[\"CATEGORY_DESCR_EN\"]==\"AC\") & (full_dataset[\"Purchace_Year\"]>=2013)& (full_dataset[\"Purchace_Year\"]<=2019))|\n",
    "                 ((full_dataset[\"CATEGORY_DESCR_EN\"]==\"BG\") & (full_dataset[\"Purchace_Year\"]>=2013)& (full_dataset[\"Purchace_Year\"]<=2019))|\n",
    "                 ((full_dataset[\"CATEGORY_DESCR_EN\"]==\"COMPUTING\") & (full_dataset[\"Purchace_Year\"]>=2013)& (full_dataset[\"Purchace_Year\"]<=2019))|\n",
    "                 ((full_dataset[\"CATEGORY_DESCR_EN\"]==\"MDA\") & (full_dataset[\"Purchace_Year\"]>=2013)& (full_dataset[\"Purchace_Year\"]<=2019))|\n",
    "                 ((full_dataset[\"CATEGORY_DESCR_EN\"]==\"SDA\") & (full_dataset[\"Purchace_Year\"]>=2013)& (full_dataset[\"Purchace_Year\"]<=2020))|\n",
    "                 ((full_dataset[\"CATEGORY_DESCR_EN\"]==\"TELECOMS\") & (full_dataset[\"Purchace_Year\"]>=2013)& (full_dataset[\"Purchace_Year\"]<=2019))]"
   ]
  },
  {
   "cell_type": "code",
   "execution_count": 4,
   "metadata": {},
   "outputs": [],
   "source": [
    "contract_type_year = full_dataset.groupby([\"ContractType\",\"Purchace_Year\"])[['total_contract','total_tickets']].sum().reset_index()\n",
    "contract_type_year[\"tickets per ts\"] = contract_type_year[\"total_tickets\"] /contract_type_year[\"total_contract\"]\n",
    "\n",
    "brand_year = full_dataset.groupby([\"Brand\",\"Purchace_Year\"])[['total_contract','total_tickets']].sum().reset_index()\n",
    "brand_year[\"tickets per ts\"] = brand_year[\"total_tickets\"] /brand_year[\"total_contract\"]\n",
    "\n",
    "category_year = full_dataset.groupby([\"CATEGORY_DESCR_EN\",\"Purchace_Year\"])[['total_contract','total_tickets']].sum().reset_index()\n",
    "category_year[\"tickets per ts\"] = category_year[\"total_tickets\"] /category_year[\"total_contract\"]\n",
    "\n",
    "subcategory_year = full_dataset.groupby([\"SUBCATEGORY_DESCR_EN\",\"Purchace_Year\"])[['total_contract','total_tickets']].sum().reset_index()\n",
    "subcategory_year[\"tickets per ts\"] = subcategory_year[\"total_tickets\"] /subcategory_year[\"total_contract\"]\n",
    "\n",
    "l3_year = full_dataset.groupby([\"GROUP_DESCR_EN\",\"Purchace_Year\"])[['total_contract','total_tickets']].sum().reset_index()\n",
    "l3_year[\"tickets per ts\"] = l3_year[\"total_tickets\"] /l3_year[\"total_contract\"]"
   ]
  },
  {
   "cell_type": "code",
   "execution_count": 5,
   "metadata": {},
   "outputs": [],
   "source": [
    "# create a excel writer object\n",
    "with pd.ExcelWriter(\"./Outputs/tickets_analysis_dates_transformed_file.xlsx\") as writer:\n",
    "   \n",
    "    # use to_excel function and specify the sheet_name and index \n",
    "    # to store the dataframe in specified sheet\n",
    "    full_dataset.to_excel(writer, sheet_name=\"base_level\", index=False)\n",
    "    contract_type_year.to_excel(writer, sheet_name=\"per_contract_types\", index=False)\n",
    "    brand_year.to_excel(writer, sheet_name=\"per Brand\", index=False)\n",
    "    category_year.to_excel(writer, sheet_name=\"per Category\", index=False)\n",
    "    subcategory_year.to_excel(writer, sheet_name=\"per SubCategory\", index=False)\n",
    "    l3_year.to_excel(writer, sheet_name=\"per L3\", index=False)"
   ]
  },
  {
   "cell_type": "code",
   "execution_count": null,
   "metadata": {},
   "outputs": [],
   "source": []
  }
 ],
 "metadata": {
  "kernelspec": {
   "display_name": "env_2024",
   "language": "python",
   "name": "python3"
  },
  "language_info": {
   "codemirror_mode": {
    "name": "ipython",
    "version": 3
   },
   "file_extension": ".py",
   "mimetype": "text/x-python",
   "name": "python",
   "nbconvert_exporter": "python",
   "pygments_lexer": "ipython3",
   "version": "3.12.2"
  }
 },
 "nbformat": 4,
 "nbformat_minor": 2
}
